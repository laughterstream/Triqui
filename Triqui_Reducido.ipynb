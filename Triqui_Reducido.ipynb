{
 "cells": [
  {
   "cell_type": "code",
   "execution_count": 1,
   "metadata": {},
   "outputs": [],
   "source": [
    "from IPython.display import clear_output\n",
    "\n",
    "# croquis de mapa de juego.\n",
    "\n",
    "def display_board(board):\n",
    "    clear_output()\n",
    "    print('   |   |')\n",
    "    print(' '+ board[1]+' | '+ board[2]+' | '+ board[3])\n",
    "    print('   |   |')\n",
    "    print('-----------')\n",
    "    print('   |   |')\n",
    "    print(' '+ board[4]+' | '+ board[5]+' | '+ board[6])\n",
    "    print('   |   |')\n",
    "    print('-----------')\n",
    "    print('   |   |')\n",
    "    print(' '+ board[7]+' | '+ board[8]+' | '+ board[9])\n",
    "    print('   |   |')"
   ]
  },
  {
   "cell_type": "code",
   "execution_count": 2,
   "metadata": {
    "scrolled": true
   },
   "outputs": [],
   "source": [
    "#Selección de figura con la que se quiere jugar.\n",
    "\n",
    "def player_input():\n",
    "    \n",
    "    '''\n",
    "    OUTPUT = (jugador 1 marker, jugador 2 marker)\n",
    "    '''\n",
    "    \n",
    "    \n",
    "    marker = ''\n",
    "    \n",
    "    \n",
    "    while  marker != 'x' and marker != 'o':\n",
    "        marker = input('jugador 1, quiere jugar con x o con o: ')\n",
    "        \n",
    "    if marker == 'x':\n",
    "        return ('x','o')\n",
    "    \n",
    "    else:\n",
    "        return ('o','x')"
   ]
  },
  {
   "cell_type": "code",
   "execution_count": 3,
   "metadata": {},
   "outputs": [],
   "source": [
    "#print de ficha en una posición del tablero.\n",
    "\n",
    "def place_marker(board,marker,position):\n",
    "    \n",
    "    board[position] = marker"
   ]
  },
  {
   "cell_type": "code",
   "execution_count": 4,
   "metadata": {},
   "outputs": [],
   "source": [
    "# Variables de victoria.\n",
    "\n",
    "def win_check(board, mark):\n",
    "    \n",
    "    #WIN TIC TAC TOE?\n",
    "    \n",
    "    #ALL ROWS, and check to see if they all share the same marker?\n",
    "    return((board[1] == mark and board [2] == mark and board[3] == mark)or\n",
    "    (board[4] == mark and board [5] == mark and board[6] == mark)or\n",
    "    (board[7] == mark and board [8] == mark and board[9] == mark)or\n",
    "    #ALL COLUMS, check to see if marker matches\n",
    "    (board[1] == mark and board [4] == mark and board[7] == mark)or\n",
    "    (board[2] == mark and board [5] == mark and board[8] == mark)or\n",
    "    (board[3] == mark and board [6] == mark and board[9] == mark)or\n",
    "    #2 diagonals, check to see match\n",
    "    (board[1] == mark and board [5] == mark and board[9] == mark)or\n",
    "    (board[3] == mark and board [5] == mark and board[7] == mark))"
   ]
  },
  {
   "cell_type": "code",
   "execution_count": 5,
   "metadata": {},
   "outputs": [],
   "source": [
    "#selección aleatoria del jugador que inicia.\n",
    "\n",
    "import random\n",
    "\n",
    "def choose_first():\n",
    "    \n",
    "    flip = random.randint(0,1)\n",
    "    \n",
    "    if flip == 0:\n",
    "        return 'Jugador 1'\n",
    "    else: flip == 1 \n",
    "    return 'Jugador 2'"
   ]
  },
  {
   "cell_type": "code",
   "execution_count": 6,
   "metadata": {},
   "outputs": [],
   "source": [
    "# rectificación de espacio vacío.\n",
    "\n",
    "def space_check(board,position):\n",
    "    return board[position] == ' '"
   ]
  },
  {
   "cell_type": "code",
   "execution_count": 7,
   "metadata": {},
   "outputs": [],
   "source": [
    "#rectificación de tablero lleno.\n",
    "\n",
    "def full_board_check(board):\n",
    "    for i in range(1,10):\n",
    "        if space_check(board,i):\n",
    "            return False \n",
    "#Board is full if we return true\n",
    "    return True"
   ]
  },
  {
   "cell_type": "code",
   "execution_count": 8,
   "metadata": {},
   "outputs": [],
   "source": [
    "#selección de posición en la que quiere jugar el jugador.\n",
    "\n",
    "def player_choice(board):\n",
    "    position = 0\n",
    "    \n",
    "    while position not in [1,2,3,4,5,6,7,8,9] or not space_check(board,position):\n",
    "        position = int(input('Choose a position: (1-9)'))\n",
    "        \n",
    "    return position"
   ]
  },
  {
   "cell_type": "code",
   "execution_count": 14,
   "metadata": {},
   "outputs": [],
   "source": [
    "#comando de repetición.\n",
    "\n",
    "def replay():\n",
    "    \n",
    "     choice = input('Quiere jugar de nuevo? si o no?: ')\n",
    "    \n",
    "     return choice == 's'"
   ]
  },
  {
   "cell_type": "code",
   "execution_count": 15,
   "metadata": {},
   "outputs": [
    {
     "name": "stdout",
     "output_type": "stream",
     "text": [
      "   |   |\n",
      " x | o | x\n",
      "   |   |\n",
      "-----------\n",
      "   |   |\n",
      " o | x | o\n",
      "   |   |\n",
      "-----------\n",
      "   |   |\n",
      " x |   |  \n",
      "   |   |\n",
      "GANA EL JUGADOR 2!!\n",
      "Quiere jugar de nuevo? si o no?: no\n",
      "Gracias por jugar, vuelva pronto!!\n"
     ]
    }
   ],
   "source": [
    "#estructura y unión ló\n",
    "print('Bienvenido a Triqui')\n",
    "\n",
    "while True:\n",
    "    # Reset the board\n",
    "    theBoard = [' '] * 10\n",
    "    player1_marker, player2_marker = player_input()\n",
    "    turn = choose_first()\n",
    "    print(turn + ' Comienza')\n",
    "    \n",
    "    play_game = input('Preparado para jugar? si o  no .')\n",
    "    \n",
    "    if play_game.lower()[0] == 's':\n",
    "        game_on = True\n",
    "    else:\n",
    "        game_on = False\n",
    "\n",
    "    while game_on:\n",
    "        if turn == 'JUGADOR 1':\n",
    "            # Player1's turn.\n",
    "            \n",
    "            display_board(theBoard)\n",
    "            position = player_choice(theBoard)\n",
    "            place_marker(theBoard, player1_marker, position)\n",
    "\n",
    "            if win_check(theBoard, player1_marker):\n",
    "                display_board(theBoard)\n",
    "                print('GANA EL JUGADOR 1')\n",
    "                game_on = False\n",
    "            else:\n",
    "                if full_board_check(theBoard):\n",
    "                    display_board(theBoard)\n",
    "                    print('EMPATE!!')\n",
    "                    break\n",
    "                else:\n",
    "                    turn = 'JUGADOR 2'\n",
    "\n",
    "        else:\n",
    "            # Player2's turn.\n",
    "            \n",
    "            display_board(theBoard)\n",
    "            position = player_choice(theBoard)\n",
    "            place_marker(theBoard, player2_marker, position)\n",
    "\n",
    "            if win_check(theBoard, player2_marker):\n",
    "                display_board(theBoard)\n",
    "                print('GANA EL JUGADOR 2!!')\n",
    "                game_on = False\n",
    "            else:\n",
    "                if full_board_check(theBoard):\n",
    "                    display_board(theBoard)\n",
    "                    print('EMPATE!!')\n",
    "                    break\n",
    "                else:\n",
    "                    turn = 'JUGADOR 1'\n",
    "\n",
    "    if not replay():\n",
    "        print('Gracias por jugar, vuelva pronto!!')\n",
    "        break"
   ]
  },
  {
   "cell_type": "code",
   "execution_count": null,
   "metadata": {},
   "outputs": [],
   "source": []
  },
  {
   "cell_type": "code",
   "execution_count": null,
   "metadata": {},
   "outputs": [],
   "source": []
  }
 ],
 "metadata": {
  "kernelspec": {
   "display_name": "Python 3",
   "language": "python",
   "name": "python3"
  },
  "language_info": {
   "codemirror_mode": {
    "name": "ipython",
    "version": 3
   },
   "file_extension": ".py",
   "mimetype": "text/x-python",
   "name": "python",
   "nbconvert_exporter": "python",
   "pygments_lexer": "ipython3",
   "version": "3.8.5"
  }
 },
 "nbformat": 4,
 "nbformat_minor": 4
}
